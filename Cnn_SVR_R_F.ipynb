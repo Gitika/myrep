{
  "cells": [
    {
      "cell_type": "markdown",
      "metadata": {
        "id": "view-in-github",
        "colab_type": "text"
      },
      "source": [
        "<a href=\"https://colab.research.google.com/github/Gitika/myrep/blob/master/Cnn_SVR_R_F.ipynb\" target=\"_parent\"><img src=\"https://colab.research.google.com/assets/colab-badge.svg\" alt=\"Open In Colab\"/></a>"
      ]
    },
    {
      "cell_type": "code",
      "execution_count": null,
      "metadata": {
        "id": "QcSXll4quna7"
      },
      "outputs": [],
      "source": [
        "#pip install -U keras"
      ]
    },
    {
      "cell_type": "code",
      "execution_count": null,
      "metadata": {
        "colab": {
          "base_uri": "https://localhost:8080/"
        },
        "id": "e17WvAhOu6C5",
        "outputId": "a2e048ef-cc37-4b4a-8eab-528d77f61796"
      },
      "outputs": [
        {
          "name": "stdout",
          "output_type": "stream",
          "text": [
            "Looking in indexes: https://pypi.org/simple, https://us-python.pkg.dev/colab-wheels/public/simple/\n",
            "Collecting keras-tuner\n",
            "  Downloading keras_tuner-1.3.5-py3-none-any.whl (176 kB)\n",
            "\u001b[2K     \u001b[90m━━━━━━━━━━━━━━━━━━━━━━━━━━━━━━━━━━━━━━━\u001b[0m \u001b[32m176.1/176.1 kB\u001b[0m \u001b[31m4.6 MB/s\u001b[0m eta \u001b[36m0:00:00\u001b[0m\n",
            "\u001b[?25hRequirement already satisfied: packaging in /usr/local/lib/python3.10/dist-packages (from keras-tuner) (23.1)\n",
            "Requirement already satisfied: requests in /usr/local/lib/python3.10/dist-packages (from keras-tuner) (2.27.1)\n",
            "Collecting kt-legacy (from keras-tuner)\n",
            "  Downloading kt_legacy-1.0.5-py3-none-any.whl (9.6 kB)\n",
            "Requirement already satisfied: urllib3<1.27,>=1.21.1 in /usr/local/lib/python3.10/dist-packages (from requests->keras-tuner) (1.26.15)\n",
            "Requirement already satisfied: certifi>=2017.4.17 in /usr/local/lib/python3.10/dist-packages (from requests->keras-tuner) (2022.12.7)\n",
            "Requirement already satisfied: charset-normalizer~=2.0.0 in /usr/local/lib/python3.10/dist-packages (from requests->keras-tuner) (2.0.12)\n",
            "Requirement already satisfied: idna<4,>=2.5 in /usr/local/lib/python3.10/dist-packages (from requests->keras-tuner) (3.4)\n",
            "Installing collected packages: kt-legacy, keras-tuner\n",
            "Successfully installed keras-tuner-1.3.5 kt-legacy-1.0.5\n"
          ]
        }
      ],
      "source": [
        "!pip install keras-tuner"
      ]
    },
    {
      "cell_type": "code",
      "execution_count": null,
      "metadata": {
        "colab": {
          "base_uri": "https://localhost:8080/"
        },
        "id": "FtaSiev1u-O3",
        "outputId": "04812865-6d7e-47eb-a593-165183580661"
      },
      "outputs": [
        {
          "name": "stdout",
          "output_type": "stream",
          "text": [
            "Looking in indexes: https://pypi.org/simple, https://us-python.pkg.dev/colab-wheels/public/simple/\n",
            "Collecting goodness_of_fit\n",
            "  Downloading goodness_of_fit-1.0.1-py3-none-any.whl (13 kB)\n",
            "Requirement already satisfied: numpy in /usr/local/lib/python3.10/dist-packages (from goodness_of_fit) (1.22.4)\n",
            "Installing collected packages: goodness_of_fit\n",
            "Successfully installed goodness_of_fit-1.0.1\n"
          ]
        }
      ],
      "source": [
        "pip install goodness_of_fit"
      ]
    },
    {
      "cell_type": "code",
      "execution_count": null,
      "metadata": {
        "colab": {
          "base_uri": "https://localhost:8080/"
        },
        "id": "_v50rEMXv1Je",
        "outputId": "6d47581c-d67f-4bb7-ff9d-c547bb0f1b8e"
      },
      "outputs": [
        {
          "name": "stdout",
          "output_type": "stream",
          "text": [
            "Looking in indexes: https://pypi.org/simple, https://us-python.pkg.dev/colab-wheels/public/simple/\n",
            "Collecting hydroeval\n",
            "  Downloading hydroeval-0.1.0-py3-none-any.whl (22 kB)\n",
            "Requirement already satisfied: numpy in /usr/local/lib/python3.10/dist-packages (from hydroeval) (1.22.4)\n",
            "Installing collected packages: hydroeval\n",
            "Successfully installed hydroeval-0.1.0\n"
          ]
        }
      ],
      "source": [
        "pip install hydroeval"
      ]
    },
    {
      "cell_type": "code",
      "execution_count": null,
      "metadata": {
        "colab": {
          "base_uri": "https://localhost:8080/"
        },
        "id": "188kFKfkvA8h",
        "outputId": "00d787e1-cba4-496a-8564-400e7635d170"
      },
      "outputs": [
        {
          "name": "stderr",
          "output_type": "stream",
          "text": [
            "<ipython-input-5-39129e25c97a>:8: DeprecationWarning: `import kerastuner` is deprecated, please use `import keras_tuner`.\n",
            "  from kerastuner import RandomSearch\n"
          ]
        }
      ],
      "source": [
        "import pandas as pd\n",
        "import numpy as np\n",
        "#import tensorflow as tf\n",
        "from sklearn.model_selection import KFold\n",
        "from sklearn.model_selection import RandomizedSearchCV, GridSearchCV,TimeSeriesSplit\n",
        "from datetime import datetime\n",
        "import math\n",
        "from kerastuner import RandomSearch\n",
        "from kerastuner.engine.hyperparameters import HyperParameters\n",
        "from sklearn import metrics\n",
        "import goodness_of_fit as gf\n",
        "from scipy import stats\n",
        "from numpy import array\n",
        "from hydroeval import *\n",
        "from xgboost import XGBRegressor\n",
        "from sklearn.metrics import mean_squared_error\n",
        "from sklearn.ensemble import RandomForestRegressor\n",
        "from sklearn.svm import SVR\n",
        "import tensorflow as tf\n",
        "from tensorflow import keras\n",
        "import pandas as pd\n",
        "import numpy as np\n",
        "#import tensorflow as tf\n",
        "import math\n",
        "#from keras import metrics"
      ]
    },
    {
      "cell_type": "code",
      "execution_count": null,
      "metadata": {
        "colab": {
          "base_uri": "https://localhost:8080/"
        },
        "id": "fxK7uN6_vu9Y",
        "outputId": "33fc3ab2-9e5e-43db-e66d-fca161dacfc4"
      },
      "outputs": [
        {
          "name": "stdout",
          "output_type": "stream",
          "text": [
            "        0     1\n",
            "0    18.4  1.15\n",
            "1    27.5  1.15\n",
            "2    24.2  1.15\n",
            "3    26.2  1.15\n",
            "4    23.1  1.15\n",
            "..    ...   ...\n",
            "877  17.4  0.97\n",
            "878  17.3  0.94\n",
            "879  17.0  0.92\n",
            "880  15.2  0.89\n",
            "881   8.1  0.87\n",
            "\n",
            "[882 rows x 2 columns]\n",
            "          0\n",
            "0    4.7035\n",
            "1    7.3600\n",
            "2    7.2450\n",
            "3    7.7510\n",
            "4    6.9000\n",
            "..      ...\n",
            "877  3.0361\n",
            "878  2.8012\n",
            "879  2.9256\n",
            "880  2.4920\n",
            "881  1.5573\n",
            "\n",
            "[882 rows x 1 columns]\n"
          ]
        }
      ],
      "source": [
        "dataset = pd.read_csv('Rice_out.csv',index_col=0)\n",
        "X = dataset.iloc[:,[0,8]].values\n",
        "y = dataset.iloc[:, [9]].values\n",
        "print(pd.DataFrame(X))\n",
        "print(pd.DataFrame(y))"
      ]
    },
    {
      "cell_type": "code",
      "execution_count": null,
      "metadata": {
        "colab": {
          "base_uri": "https://localhost:8080/",
          "height": 35
        },
        "id": "7wH7-80rCAcW",
        "outputId": "2522e84c-5440-4283-f487-b40dc025fee3"
      },
      "outputs": [
        {
          "data": {
            "application/vnd.google.colaboratory.intrinsic+json": {
              "type": "string"
            },
            "text/plain": [
              "'print(X.shape)\\nprint(y.shape)\\nX = X.reshape((X.shape[0], X.shape[1], 1))\\n'"
            ]
          },
          "execution_count": 7,
          "metadata": {},
          "output_type": "execute_result"
        }
      ],
      "source": [
        "'''print(X.shape)\n",
        "print(y.shape)\n",
        "X = X.reshape((X.shape[0], X.shape[1], 1))\n",
        "'''"
      ]
    },
    {
      "cell_type": "code",
      "execution_count": null,
      "metadata": {
        "id": "FoZUP9TkCmnv"
      },
      "outputs": [],
      "source": [
        "from sklearn.model_selection import train_test_split\n",
        "X_train, X_valid, y_train, y_valid = train_test_split(X, y, test_size = 0.3, random_state = 2)\n",
        "#X_train=dataset.iloc[0:947,[0,4,5,6,7]].values\n",
        "#X_valid=dataset.iloc[948:,[0,4,5,6,7]].values\n",
        "#y_train=dataset.iloc[0:947,[8]].values\n",
        "#y_valid=dataset.iloc[948:,[8]].values"
      ]
    },
    {
      "cell_type": "code",
      "execution_count": null,
      "metadata": {
        "colab": {
          "base_uri": "https://localhost:8080/"
        },
        "id": "ZrAckUqRuScv",
        "outputId": "08b26565-921a-4f27-db13-507ef8276f34"
      },
      "outputs": [
        {
          "name": "stdout",
          "output_type": "stream",
          "text": [
            "(617, 2)\n",
            "(617, 1)\n"
          ]
        }
      ],
      "source": [
        "print(X_train.shape)\n",
        "print(y_train.shape)\n",
        "X_train1=X_train\n",
        "X_train = X_train.reshape((X_train.shape[0], X_train.shape[1], 1))"
      ]
    },
    {
      "cell_type": "code",
      "execution_count": null,
      "metadata": {
        "colab": {
          "base_uri": "https://localhost:8080/"
        },
        "id": "gjV9or1Cuz_2",
        "outputId": "9224b620-8270-40a5-f0c6-1cfaae7b307c"
      },
      "outputs": [
        {
          "name": "stdout",
          "output_type": "stream",
          "text": [
            "(265, 2)\n",
            "(265, 1)\n"
          ]
        }
      ],
      "source": [
        "print(X_valid.shape)\n",
        "print(y_valid.shape)\n",
        "X_valid1 = X_valid\n",
        "X_valid = X_valid.reshape((X_valid.shape[0], X_valid.shape[1], 1))"
      ]
    },
    {
      "cell_type": "code",
      "execution_count": null,
      "metadata": {
        "id": "38_Pi9vTCqPZ"
      },
      "outputs": [],
      "source": [
        "input_shape=(X.shape[1], 1)"
      ]
    },
    {
      "cell_type": "code",
      "execution_count": null,
      "metadata": {
        "id": "orYWNVovCvG3"
      },
      "outputs": [],
      "source": [
        "def build_model(hp):\n",
        "  model = keras.Sequential([\n",
        "\n",
        "    keras.layers.Conv1D(\n",
        "        filters=hp.Int('conv_1_filter', min_value=32, max_value=128, step=16),\n",
        "        kernel_size=hp.Choice('conv_1_kernel', values = [1]),activation=hp.Choice(\n",
        "                    'dense_activation',\n",
        "                    values=['relu', 'elu'],\n",
        "                    default='relu'\n",
        "                ),\n",
        "        input_shape=(X.shape[1], 1) ),\n",
        "    keras.layers.MaxPooling1D(name='my_pool'),\n",
        "    keras.layers.Flatten(),\n",
        "    keras.layers.Dropout(rate=hp.Choice('drop_rate',values=[0.01,0.02])),\n",
        "    keras.layers.Dense(\n",
        "        units=hp.Int('dense_1_units', min_value=32, max_value=128, step=16),\n",
        "        activation=hp.Choice(\n",
        "                    'dense_activation',\n",
        "                    values=['relu', 'elu'],\n",
        "                    default='relu'\n",
        "                ),name='my_dense'\n",
        "    ),\n",
        "    keras.layers.Dense(1, activation='relu')\n",
        "  ])\n",
        "\n",
        "  model.compile(optimizer=keras.optimizers.Adam(hp.Choice('learning_rate', values=[1e-2, 1e-3])),\n",
        "              loss='mse',\n",
        "              metrics=['mse'])\n",
        "\n",
        "  return model"
      ]
    },
    {
      "cell_type": "code",
      "execution_count": null,
      "metadata": {
        "id": "d-anUMmuzVnN"
      },
      "outputs": [],
      "source": []
    },
    {
      "cell_type": "code",
      "execution_count": null,
      "metadata": {
        "id": "C-3SAcOPCyWx"
      },
      "outputs": [],
      "source": [
        "def mean_absolute_percentage_error(y_true, y_pred):\n",
        "    return np.mean(np.abs((y_true - y_pred) / y_true)) * 100"
      ]
    },
    {
      "cell_type": "code",
      "execution_count": null,
      "metadata": {
        "id": "W4DVOjm7C1RE"
      },
      "outputs": [],
      "source": [
        "def mbe(predict, actual):\n",
        "    predict = np.array(predict)\n",
        "    actual = np.array(actual)\n",
        "    difference = predict - actual\n",
        "    score = np.sum(difference) / len(predict)\n",
        "    return score\n"
      ]
    },
    {
      "cell_type": "code",
      "execution_count": null,
      "metadata": {
        "id": "hu7GgpOyC4Cu"
      },
      "outputs": [],
      "source": [
        "def mean_relative_error(y_true,y_pred):\n",
        "    res=(np.sum(np.abs((y_true-y_pred)/y_true))*100)/len(y_true)\n",
        "    return res"
      ]
    },
    {
      "cell_type": "code",
      "execution_count": null,
      "metadata": {
        "id": "yIMmoakFC7br"
      },
      "outputs": [],
      "source": [
        "mae=[]\n",
        "mrae=[]\n",
        "mse=[]\n",
        "r2=[]\n",
        "r2_A=[]\n",
        "nse1=[]\n",
        "mnse=[]\n",
        "rnse=[]\n",
        "nrmse2=[]\n",
        "nrmse1=[]\n",
        "i_a=[]\n",
        "mae_out1=[]\n",
        "mape=[]\n",
        "dg=[]\n",
        "mbd_out=[]\n",
        "md_i_a=[]\n",
        "kg2=[]\n",
        "me=[]\n",
        "r_i_a=[]\n",
        "rmse1=[]\n",
        "accu=[]\n",
        "\n",
        "mae_t=[]\n",
        "mrae_t=[]\n",
        "mse_t=[]\n",
        "r2_t=[]\n",
        "r2_A_t=[]\n",
        "nse_t=[]\n",
        "mnse_t=[]\n",
        "rnse_t=[]\n",
        "nrmse2_t=[]\n",
        "nrmse1_t=[]\n",
        "i_a_t=[]\n",
        "mae_out1_t=[]\n",
        "mape_t=[]\n",
        "dg_t=[]\n",
        "mbd_out_t=[]\n",
        "md_i_a_t=[]\n",
        "kg2_t=[]\n",
        "me_t=[]\n",
        "r_i_a_t=[]\n",
        "rmse1_t=[]\n",
        "accu_t=[]"
      ]
    },
    {
      "cell_type": "code",
      "execution_count": null,
      "metadata": {
        "colab": {
          "base_uri": "https://localhost:8080/"
        },
        "id": "NsbaJKAYC924",
        "outputId": "dfc25bf7-c07d-426a-e5f8-a986a4b4102e"
      },
      "outputs": [
        {
          "name": "stdout",
          "output_type": "stream",
          "text": [
            "[]\n"
          ]
        }
      ],
      "source": [
        "print(rmse1)"
      ]
    },
    {
      "cell_type": "code",
      "execution_count": null,
      "metadata": {
        "colab": {
          "base_uri": "https://localhost:8080/"
        },
        "id": "UdC5Y_qPDUck",
        "outputId": "f18bbcfe-024e-4435-d856-887ab5ea47b8"
      },
      "outputs": [
        {
          "name": "stdout",
          "output_type": "stream",
          "text": [
            "Trial 25 Complete [00h 00m 12s]\n",
            "val_mse: 0.4509699046611786\n",
            "\n",
            "Best val_mse So Far: 0.31385543942451477\n",
            "Total elapsed time: 00h 03m 46s\n",
            "Model: \"sequential\"\n",
            "_________________________________________________________________\n",
            " Layer (type)                Output Shape              Param #   \n",
            "=================================================================\n",
            " conv1d (Conv1D)             (None, 2, 32)             64        \n",
            "                                                                 \n",
            " my_pool (MaxPooling1D)      (None, 1, 32)             0         \n",
            "                                                                 \n",
            " flatten (Flatten)           (None, 32)                0         \n",
            "                                                                 \n",
            " dropout (Dropout)           (None, 32)                0         \n",
            "                                                                 \n",
            " my_dense (Dense)            (None, 80)                2640      \n",
            "                                                                 \n",
            " dense (Dense)               (None, 1)                 81        \n",
            "                                                                 \n",
            "=================================================================\n",
            "Total params: 2,785\n",
            "Trainable params: 2,785\n",
            "Non-trainable params: 0\n",
            "_________________________________________________________________\n"
          ]
        }
      ],
      "source": [
        "for i in range(1):\n",
        "  tuner_search=RandomSearch(build_model,\n",
        "                          objective='val_mse',\n",
        "                          max_trials=25,directory='output',project_name=\"CNNSVRcomb_15\")\n",
        "  tuner_search.search(X_train,y_train,epochs=50,validation_split=0.1)\n",
        "  model=tuner_search.get_best_models(num_models=1)[0]\n",
        "  model.summary()"
      ]
    },
    {
      "cell_type": "code",
      "execution_count": null,
      "metadata": {
        "colab": {
          "base_uri": "https://localhost:8080/"
        },
        "id": "UlgJ0QNIXNqG",
        "outputId": "be370eac-f258-42c9-addf-915bc2db0559"
      },
      "outputs": [
        {
          "name": "stdout",
          "output_type": "stream",
          "text": [
            "Model: \"model\"\n",
            "_________________________________________________________________\n",
            " Layer (type)                Output Shape              Param #   \n",
            "=================================================================\n",
            " conv1d_input (InputLayer)   [(None, 2, 1)]            0         \n",
            "                                                                 \n",
            " conv1d (Conv1D)             (None, 2, 32)             64        \n",
            "                                                                 \n",
            " my_pool (MaxPooling1D)      (None, 1, 32)             0         \n",
            "                                                                 \n",
            "=================================================================\n",
            "Total params: 64\n",
            "Trainable params: 64\n",
            "Non-trainable params: 0\n",
            "_________________________________________________________________\n"
          ]
        }
      ],
      "source": [
        "from keras.models import Model\n",
        "layer_name='my_pool'\n",
        "intermediate_layer_model = Model(inputs=model.input,\n",
        "                                 outputs=model.get_layer(layer_name).output)\n",
        "\n",
        "intermediate_layer_model.summary()"
      ]
    },
    {
      "cell_type": "code",
      "execution_count": null,
      "metadata": {
        "colab": {
          "base_uri": "https://localhost:8080/"
        },
        "id": "3EuPlZSw0AuK",
        "outputId": "077e10cf-6b98-44cf-9518-8cd329394ad4"
      },
      "outputs": [
        {
          "name": "stdout",
          "output_type": "stream",
          "text": [
            "Epoch 1/100\n",
            "18/18 [==============================] - 1s 15ms/step - loss: 0.4674 - mse: 0.4674 - val_loss: 0.3573 - val_mse: 0.3573\n",
            "Epoch 2/100\n",
            "18/18 [==============================] - 0s 4ms/step - loss: 0.4427 - mse: 0.4427 - val_loss: 0.4622 - val_mse: 0.4622\n",
            "Epoch 3/100\n",
            "18/18 [==============================] - 0s 4ms/step - loss: 0.5309 - mse: 0.5309 - val_loss: 0.4278 - val_mse: 0.4278\n",
            "Epoch 4/100\n",
            "18/18 [==============================] - 0s 4ms/step - loss: 0.4742 - mse: 0.4742 - val_loss: 0.3548 - val_mse: 0.3548\n",
            "Epoch 5/100\n",
            "18/18 [==============================] - 0s 5ms/step - loss: 0.4385 - mse: 0.4385 - val_loss: 0.3310 - val_mse: 0.3310\n",
            "Epoch 6/100\n",
            "18/18 [==============================] - 0s 4ms/step - loss: 0.4358 - mse: 0.4358 - val_loss: 0.3078 - val_mse: 0.3078\n",
            "Epoch 7/100\n",
            "18/18 [==============================] - 0s 6ms/step - loss: 0.4343 - mse: 0.4343 - val_loss: 0.5651 - val_mse: 0.5651\n",
            "Epoch 8/100\n",
            "18/18 [==============================] - 0s 5ms/step - loss: 0.5143 - mse: 0.5143 - val_loss: 0.3400 - val_mse: 0.3400\n",
            "Epoch 9/100\n",
            "18/18 [==============================] - 0s 5ms/step - loss: 0.4355 - mse: 0.4355 - val_loss: 0.2836 - val_mse: 0.2836\n",
            "Epoch 10/100\n",
            "18/18 [==============================] - 0s 5ms/step - loss: 0.4308 - mse: 0.4308 - val_loss: 0.3120 - val_mse: 0.3120\n",
            "Epoch 11/100\n",
            "18/18 [==============================] - 0s 6ms/step - loss: 0.4222 - mse: 0.4222 - val_loss: 0.3327 - val_mse: 0.3327\n",
            "Epoch 12/100\n",
            "18/18 [==============================] - 0s 9ms/step - loss: 0.4337 - mse: 0.4337 - val_loss: 0.2942 - val_mse: 0.2942\n",
            "Epoch 13/100\n",
            "18/18 [==============================] - 0s 21ms/step - loss: 0.4565 - mse: 0.4565 - val_loss: 0.3186 - val_mse: 0.3186\n",
            "Epoch 14/100\n",
            "18/18 [==============================] - 0s 13ms/step - loss: 0.4638 - mse: 0.4638 - val_loss: 0.3024 - val_mse: 0.3024\n",
            "Epoch 15/100\n",
            "18/18 [==============================] - 0s 8ms/step - loss: 0.4187 - mse: 0.4187 - val_loss: 0.3468 - val_mse: 0.3468\n",
            "Epoch 16/100\n",
            "18/18 [==============================] - 0s 5ms/step - loss: 0.4329 - mse: 0.4329 - val_loss: 0.2997 - val_mse: 0.2997\n",
            "Epoch 17/100\n",
            "18/18 [==============================] - 0s 6ms/step - loss: 0.4381 - mse: 0.4381 - val_loss: 0.3357 - val_mse: 0.3357\n",
            "Epoch 18/100\n",
            "18/18 [==============================] - 0s 5ms/step - loss: 0.4253 - mse: 0.4253 - val_loss: 0.2952 - val_mse: 0.2952\n",
            "Epoch 19/100\n",
            "18/18 [==============================] - 0s 4ms/step - loss: 0.4463 - mse: 0.4463 - val_loss: 0.3618 - val_mse: 0.3618\n",
            "Epoch 20/100\n",
            "18/18 [==============================] - 0s 4ms/step - loss: 0.4411 - mse: 0.4411 - val_loss: 0.3827 - val_mse: 0.3827\n",
            "Epoch 21/100\n",
            "18/18 [==============================] - 0s 5ms/step - loss: 0.4220 - mse: 0.4220 - val_loss: 0.2771 - val_mse: 0.2771\n",
            "Epoch 22/100\n",
            "18/18 [==============================] - 0s 5ms/step - loss: 0.4019 - mse: 0.4019 - val_loss: 0.3338 - val_mse: 0.3338\n",
            "Epoch 23/100\n",
            "18/18 [==============================] - 0s 4ms/step - loss: 0.4314 - mse: 0.4314 - val_loss: 0.3645 - val_mse: 0.3645\n",
            "Epoch 24/100\n",
            "18/18 [==============================] - 0s 5ms/step - loss: 0.4166 - mse: 0.4166 - val_loss: 0.2945 - val_mse: 0.2945\n",
            "Epoch 25/100\n",
            "18/18 [==============================] - 0s 5ms/step - loss: 0.4110 - mse: 0.4110 - val_loss: 0.2826 - val_mse: 0.2826\n",
            "Epoch 26/100\n",
            "18/18 [==============================] - 0s 4ms/step - loss: 0.3928 - mse: 0.3928 - val_loss: 0.2710 - val_mse: 0.2710\n",
            "Epoch 27/100\n",
            "18/18 [==============================] - 0s 5ms/step - loss: 0.4034 - mse: 0.4034 - val_loss: 0.2775 - val_mse: 0.2775\n",
            "Epoch 28/100\n",
            "18/18 [==============================] - 0s 6ms/step - loss: 0.4398 - mse: 0.4398 - val_loss: 0.3184 - val_mse: 0.3184\n",
            "Epoch 29/100\n",
            "18/18 [==============================] - 0s 5ms/step - loss: 0.4095 - mse: 0.4095 - val_loss: 0.3021 - val_mse: 0.3021\n",
            "Epoch 30/100\n",
            "18/18 [==============================] - 0s 4ms/step - loss: 0.4055 - mse: 0.4055 - val_loss: 0.3070 - val_mse: 0.3070\n",
            "Epoch 31/100\n",
            "18/18 [==============================] - 0s 5ms/step - loss: 0.4229 - mse: 0.4229 - val_loss: 0.2959 - val_mse: 0.2959\n",
            "Epoch 32/100\n",
            "18/18 [==============================] - 0s 4ms/step - loss: 0.4020 - mse: 0.4020 - val_loss: 0.2895 - val_mse: 0.2895\n",
            "Epoch 33/100\n",
            "18/18 [==============================] - 0s 4ms/step - loss: 0.4266 - mse: 0.4266 - val_loss: 0.3378 - val_mse: 0.3378\n",
            "Epoch 34/100\n",
            "18/18 [==============================] - 0s 5ms/step - loss: 0.4093 - mse: 0.4093 - val_loss: 0.2661 - val_mse: 0.2661\n",
            "Epoch 35/100\n",
            "18/18 [==============================] - 0s 5ms/step - loss: 0.4195 - mse: 0.4195 - val_loss: 0.2719 - val_mse: 0.2719\n",
            "Epoch 36/100\n",
            "18/18 [==============================] - 0s 4ms/step - loss: 0.4565 - mse: 0.4565 - val_loss: 0.3680 - val_mse: 0.3680\n",
            "Epoch 37/100\n",
            "18/18 [==============================] - 0s 5ms/step - loss: 0.4262 - mse: 0.4262 - val_loss: 0.3935 - val_mse: 0.3935\n",
            "Epoch 38/100\n",
            "18/18 [==============================] - 0s 4ms/step - loss: 0.4145 - mse: 0.4145 - val_loss: 0.2632 - val_mse: 0.2632\n",
            "Epoch 39/100\n",
            "18/18 [==============================] - 0s 5ms/step - loss: 0.3897 - mse: 0.3897 - val_loss: 0.4197 - val_mse: 0.4197\n",
            "Epoch 40/100\n",
            "18/18 [==============================] - 0s 4ms/step - loss: 0.5046 - mse: 0.5046 - val_loss: 0.3703 - val_mse: 0.3703\n",
            "Epoch 41/100\n",
            "18/18 [==============================] - 0s 4ms/step - loss: 0.4410 - mse: 0.4410 - val_loss: 0.3105 - val_mse: 0.3105\n",
            "Epoch 42/100\n",
            "18/18 [==============================] - 0s 5ms/step - loss: 0.4264 - mse: 0.4264 - val_loss: 0.3244 - val_mse: 0.3244\n",
            "Epoch 43/100\n",
            "18/18 [==============================] - 0s 4ms/step - loss: 0.4235 - mse: 0.4235 - val_loss: 0.3183 - val_mse: 0.3183\n",
            "Epoch 44/100\n",
            "18/18 [==============================] - 0s 4ms/step - loss: 0.5060 - mse: 0.5060 - val_loss: 0.6438 - val_mse: 0.6438\n",
            "Epoch 45/100\n",
            "18/18 [==============================] - 0s 5ms/step - loss: 0.5441 - mse: 0.5441 - val_loss: 0.3701 - val_mse: 0.3701\n",
            "Epoch 46/100\n",
            "18/18 [==============================] - 0s 4ms/step - loss: 0.4168 - mse: 0.4168 - val_loss: 0.2912 - val_mse: 0.2912\n",
            "Epoch 47/100\n",
            "18/18 [==============================] - 0s 8ms/step - loss: 0.4680 - mse: 0.4680 - val_loss: 0.6630 - val_mse: 0.6630\n",
            "Epoch 48/100\n",
            "18/18 [==============================] - 0s 7ms/step - loss: 0.5474 - mse: 0.5474 - val_loss: 0.4428 - val_mse: 0.4428\n",
            "Epoch 49/100\n",
            "18/18 [==============================] - 0s 9ms/step - loss: 0.4338 - mse: 0.4338 - val_loss: 0.2539 - val_mse: 0.2539\n",
            "Epoch 50/100\n",
            "18/18 [==============================] - 0s 6ms/step - loss: 0.4519 - mse: 0.4519 - val_loss: 0.2809 - val_mse: 0.2809\n",
            "Epoch 51/100\n",
            "18/18 [==============================] - 0s 6ms/step - loss: 0.4909 - mse: 0.4909 - val_loss: 0.3944 - val_mse: 0.3944\n",
            "Epoch 52/100\n",
            "18/18 [==============================] - 0s 6ms/step - loss: 0.4225 - mse: 0.4225 - val_loss: 0.3770 - val_mse: 0.3770\n",
            "Epoch 53/100\n",
            "18/18 [==============================] - 0s 6ms/step - loss: 0.4519 - mse: 0.4519 - val_loss: 0.3498 - val_mse: 0.3498\n",
            "Epoch 54/100\n",
            "18/18 [==============================] - 0s 7ms/step - loss: 0.4604 - mse: 0.4604 - val_loss: 0.2758 - val_mse: 0.2758\n",
            "Epoch 55/100\n",
            "18/18 [==============================] - 0s 7ms/step - loss: 0.4404 - mse: 0.4404 - val_loss: 0.4688 - val_mse: 0.4688\n",
            "Epoch 56/100\n",
            "18/18 [==============================] - 0s 6ms/step - loss: 0.4667 - mse: 0.4667 - val_loss: 0.4690 - val_mse: 0.4690\n",
            "Epoch 57/100\n",
            "18/18 [==============================] - 0s 8ms/step - loss: 0.4784 - mse: 0.4784 - val_loss: 0.3507 - val_mse: 0.3507\n",
            "Epoch 58/100\n",
            "18/18 [==============================] - 0s 6ms/step - loss: 0.4336 - mse: 0.4336 - val_loss: 0.3113 - val_mse: 0.3113\n",
            "Epoch 59/100\n",
            "18/18 [==============================] - 0s 6ms/step - loss: 0.4306 - mse: 0.4306 - val_loss: 0.2855 - val_mse: 0.2855\n",
            "Epoch 60/100\n",
            "18/18 [==============================] - 0s 5ms/step - loss: 0.4255 - mse: 0.4255 - val_loss: 0.3607 - val_mse: 0.3607\n",
            "Epoch 61/100\n",
            "18/18 [==============================] - 0s 6ms/step - loss: 0.4035 - mse: 0.4035 - val_loss: 0.2912 - val_mse: 0.2912\n",
            "Epoch 62/100\n",
            "18/18 [==============================] - 0s 6ms/step - loss: 0.4145 - mse: 0.4145 - val_loss: 0.2768 - val_mse: 0.2768\n",
            "Epoch 63/100\n",
            "18/18 [==============================] - 0s 7ms/step - loss: 0.3980 - mse: 0.3980 - val_loss: 0.2874 - val_mse: 0.2874\n",
            "Epoch 64/100\n",
            "18/18 [==============================] - 0s 6ms/step - loss: 0.4219 - mse: 0.4219 - val_loss: 0.3246 - val_mse: 0.3246\n",
            "Epoch 65/100\n",
            "18/18 [==============================] - 0s 6ms/step - loss: 0.4333 - mse: 0.4333 - val_loss: 0.3398 - val_mse: 0.3398\n",
            "Epoch 66/100\n",
            "18/18 [==============================] - 0s 8ms/step - loss: 0.4672 - mse: 0.4672 - val_loss: 0.3621 - val_mse: 0.3621\n",
            "Epoch 67/100\n",
            "18/18 [==============================] - 0s 7ms/step - loss: 0.4386 - mse: 0.4386 - val_loss: 0.3001 - val_mse: 0.3001\n",
            "Epoch 68/100\n",
            "18/18 [==============================] - 0s 7ms/step - loss: 0.4076 - mse: 0.4076 - val_loss: 0.3210 - val_mse: 0.3210\n",
            "Epoch 69/100\n",
            "18/18 [==============================] - 0s 7ms/step - loss: 0.5276 - mse: 0.5276 - val_loss: 0.7056 - val_mse: 0.7056\n",
            "Epoch 70/100\n",
            "18/18 [==============================] - 0s 8ms/step - loss: 0.5161 - mse: 0.5161 - val_loss: 0.4443 - val_mse: 0.4443\n",
            "Epoch 71/100\n",
            "18/18 [==============================] - 0s 5ms/step - loss: 0.4568 - mse: 0.4568 - val_loss: 0.3614 - val_mse: 0.3614\n",
            "Epoch 72/100\n",
            "18/18 [==============================] - 0s 5ms/step - loss: 0.4140 - mse: 0.4140 - val_loss: 0.2562 - val_mse: 0.2562\n",
            "Epoch 73/100\n",
            "18/18 [==============================] - 0s 4ms/step - loss: 0.4351 - mse: 0.4351 - val_loss: 0.3218 - val_mse: 0.3218\n",
            "Epoch 74/100\n",
            "18/18 [==============================] - 0s 4ms/step - loss: 0.4143 - mse: 0.4143 - val_loss: 0.3299 - val_mse: 0.3299\n",
            "Epoch 75/100\n",
            "18/18 [==============================] - 0s 6ms/step - loss: 0.4042 - mse: 0.4042 - val_loss: 0.3092 - val_mse: 0.3092\n",
            "Epoch 76/100\n",
            "18/18 [==============================] - 0s 4ms/step - loss: 0.4248 - mse: 0.4248 - val_loss: 0.4156 - val_mse: 0.4156\n",
            "Epoch 77/100\n",
            "18/18 [==============================] - 0s 5ms/step - loss: 0.4003 - mse: 0.4003 - val_loss: 0.2456 - val_mse: 0.2456\n",
            "Epoch 78/100\n",
            "18/18 [==============================] - 0s 5ms/step - loss: 0.5026 - mse: 0.5026 - val_loss: 0.3404 - val_mse: 0.3404\n",
            "Epoch 79/100\n",
            "18/18 [==============================] - 0s 4ms/step - loss: 0.4667 - mse: 0.4667 - val_loss: 0.2685 - val_mse: 0.2685\n",
            "Epoch 80/100\n",
            "18/18 [==============================] - 0s 4ms/step - loss: 0.4045 - mse: 0.4045 - val_loss: 0.2656 - val_mse: 0.2656\n",
            "Epoch 81/100\n",
            "18/18 [==============================] - 0s 4ms/step - loss: 0.3894 - mse: 0.3894 - val_loss: 0.2561 - val_mse: 0.2561\n",
            "Epoch 82/100\n",
            "18/18 [==============================] - 0s 4ms/step - loss: 0.4239 - mse: 0.4239 - val_loss: 0.2721 - val_mse: 0.2721\n",
            "Epoch 83/100\n",
            "18/18 [==============================] - 0s 6ms/step - loss: 0.4004 - mse: 0.4004 - val_loss: 0.2747 - val_mse: 0.2747\n",
            "Epoch 84/100\n",
            "18/18 [==============================] - 0s 4ms/step - loss: 0.3998 - mse: 0.3998 - val_loss: 0.2801 - val_mse: 0.2801\n",
            "Epoch 85/100\n",
            "18/18 [==============================] - 0s 5ms/step - loss: 0.3947 - mse: 0.3947 - val_loss: 0.2520 - val_mse: 0.2520\n",
            "Epoch 86/100\n",
            "18/18 [==============================] - 0s 5ms/step - loss: 0.3876 - mse: 0.3876 - val_loss: 0.2630 - val_mse: 0.2630\n",
            "Epoch 87/100\n",
            "18/18 [==============================] - 0s 5ms/step - loss: 0.4086 - mse: 0.4086 - val_loss: 0.3679 - val_mse: 0.3679\n",
            "Epoch 88/100\n",
            "18/18 [==============================] - 0s 4ms/step - loss: 0.3975 - mse: 0.3975 - val_loss: 0.2633 - val_mse: 0.2633\n",
            "Epoch 89/100\n",
            "18/18 [==============================] - 0s 5ms/step - loss: 0.4185 - mse: 0.4185 - val_loss: 0.2864 - val_mse: 0.2864\n",
            "Epoch 90/100\n",
            "18/18 [==============================] - 0s 4ms/step - loss: 0.4940 - mse: 0.4940 - val_loss: 0.4452 - val_mse: 0.4452\n",
            "Epoch 91/100\n",
            "18/18 [==============================] - 0s 4ms/step - loss: 0.4430 - mse: 0.4430 - val_loss: 0.2767 - val_mse: 0.2767\n",
            "Epoch 92/100\n",
            "18/18 [==============================] - 0s 5ms/step - loss: 0.4906 - mse: 0.4906 - val_loss: 0.3674 - val_mse: 0.3674\n",
            "Epoch 93/100\n",
            "18/18 [==============================] - 0s 5ms/step - loss: 0.4183 - mse: 0.4183 - val_loss: 0.2638 - val_mse: 0.2638\n",
            "Epoch 94/100\n",
            "18/18 [==============================] - 0s 4ms/step - loss: 0.3820 - mse: 0.3820 - val_loss: 0.2641 - val_mse: 0.2641\n",
            "Epoch 95/100\n",
            "18/18 [==============================] - 0s 4ms/step - loss: 0.3887 - mse: 0.3887 - val_loss: 0.2684 - val_mse: 0.2684\n",
            "Epoch 96/100\n",
            "18/18 [==============================] - 0s 5ms/step - loss: 0.4068 - mse: 0.4068 - val_loss: 0.3288 - val_mse: 0.3288\n",
            "Epoch 97/100\n",
            "18/18 [==============================] - 0s 5ms/step - loss: 0.4099 - mse: 0.4099 - val_loss: 0.3227 - val_mse: 0.3227\n",
            "Epoch 98/100\n",
            "18/18 [==============================] - 0s 4ms/step - loss: 0.4071 - mse: 0.4071 - val_loss: 0.3006 - val_mse: 0.3006\n",
            "Epoch 99/100\n",
            "18/18 [==============================] - 0s 4ms/step - loss: 0.4029 - mse: 0.4029 - val_loss: 0.2654 - val_mse: 0.2654\n",
            "Epoch 100/100\n",
            "18/18 [==============================] - 0s 6ms/step - loss: 0.4629 - mse: 0.4629 - val_loss: 0.4481 - val_mse: 0.4481\n"
          ]
        },
        {
          "data": {
            "text/plain": [
              "<keras.callbacks.History at 0x7fb15e5f20e0>"
            ]
          },
          "execution_count": 20,
          "metadata": {},
          "output_type": "execute_result"
        }
      ],
      "source": [
        "model.fit(X_train, y_train ,epochs=100, verbose=1,validation_split=0.1)\n"
      ]
    },
    {
      "cell_type": "code",
      "execution_count": null,
      "metadata": {
        "id": "BknysCUJQKRp"
      },
      "outputs": [],
      "source": [
        "import numpy as np"
      ]
    },
    {
      "cell_type": "code",
      "execution_count": null,
      "metadata": {
        "colab": {
          "base_uri": "https://localhost:8080/"
        },
        "id": "DkHRnVkHDbid",
        "outputId": "52204acd-c67c-41e3-ace4-d82f7932ab80"
      },
      "outputs": [
        {
          "name": "stdout",
          "output_type": "stream",
          "text": [
            "20/20 [==============================] - 0s 2ms/step\n",
            "(617, 1, 32)\n",
            "           0         1         2         3         4         5         6   \\\n",
            "0   -0.025631 -0.154134 -0.371080 -0.107853  1.006166 -0.076367  0.903936   \n",
            "1    0.028449 -0.116164 -0.364549 -0.057833  1.514327 -0.035652  1.290411   \n",
            "2   -0.025631 -0.154134 -0.371080 -0.107853 -0.158989 -0.076367  0.007023   \n",
            "3   -0.025631 -0.154134 -0.371080 -0.107853  1.236277 -0.076367  1.078944   \n",
            "4    0.028449 -0.116164 -0.364549 -0.057833  1.552679 -0.035652  1.319579   \n",
            "..        ...       ...       ...       ...       ...       ...       ...   \n",
            "612  0.028449 -0.116164 -0.364549 -0.057833  1.734850 -0.035652  1.458127   \n",
            "613 -0.039985 -0.164203 -0.372849 -0.121028  0.143251 -0.087170  0.247659   \n",
            "614 -0.025631 -0.154134 -0.371080 -0.107853  0.565121 -0.076367  0.568506   \n",
            "615  0.082865 -0.076489 -0.357950 -0.005008  0.076136  0.006835  0.196615   \n",
            "616 -0.063439 -0.180719 -0.375788 -0.142556  0.382950 -0.104894  0.429958   \n",
            "\n",
            "           7         8         9   ...        22        23        24  \\\n",
            "0   -0.011115  0.661545 -0.209953  ... -0.091012  0.059924 -0.048783   \n",
            "1   -0.009099  1.119132 -0.165843  ... -0.041912  0.110337 -0.005979   \n",
            "2   -0.011115 -0.329950 -0.209953  ... -0.091012  0.059924 -0.048783   \n",
            "3   -0.011115  0.868755 -0.209953  ... -0.091012  0.059924 -0.048783   \n",
            "4   -0.009099  1.153667 -0.165843  ... -0.041912  0.110337 -0.005979   \n",
            "..        ...       ...       ...  ...       ...       ...       ...   \n",
            "612 -0.009099  1.317708 -0.165843  ... -0.041912  0.110337 -0.005979   \n",
            "613 -0.011664 -0.109070 -0.221573  ... -0.103960  0.046176 -0.060134   \n",
            "614 -0.011115  0.264394 -0.209953  ... -0.091012  0.059924 -0.048783   \n",
            "615 -0.007078 -0.161320 -0.119270  ...  0.009792  0.160749  0.038019   \n",
            "616 -0.012579  0.100353 -0.240561  ... -0.125133  0.023261 -0.078751   \n",
            "\n",
            "           25        26        27        28        29        30        31  \n",
            "0   -0.109578 -0.173891 -0.079962  0.373897 -0.129478 -0.108425  0.318791  \n",
            "1   -0.046586 -0.126997 -0.050284  0.716075 -0.090197 -0.051100  0.592271  \n",
            "2   -0.109578 -0.173891 -0.079962 -0.343095 -0.129478 -0.108425 -0.270858  \n",
            "3   -0.109578 -0.173891 -0.079962  0.528845 -0.129478 -0.108425  0.442631  \n",
            "4   -0.046586 -0.126997 -0.050284  0.741900 -0.090197 -0.051100  0.612911  \n",
            "..        ...       ...       ...       ...       ...       ...       ...  \n",
            "612 -0.046586 -0.126997 -0.050284  0.864568 -0.090197 -0.051100  0.710951  \n",
            "613 -0.126024 -0.186238 -0.087894 -0.187111 -0.139893 -0.123449 -0.135503  \n",
            "614 -0.109578 -0.173891 -0.079962  0.076912 -0.129478 -0.108425  0.081432  \n",
            "615  0.020647 -0.077441 -0.019648 -0.223031 -0.049144  0.009863 -0.166171  \n",
            "616 -0.152761 -0.206406 -0.100962 -0.044725 -0.156976 -0.147929 -0.016471  \n",
            "\n",
            "[617 rows x 32 columns]\n"
          ]
        }
      ],
      "source": [
        "intermediate_output = intermediate_layer_model.predict(X_train)\n",
        "print(intermediate_output.shape)\n",
        "intermediate_output=np.reshape(intermediate_output,(intermediate_output.shape[0], (intermediate_output.shape[1]*intermediate_output.shape[2])))\n",
        "intermediate_output = pd.DataFrame(data=intermediate_output)\n",
        "print(intermediate_output)"
      ]
    },
    {
      "cell_type": "code",
      "execution_count": null,
      "metadata": {
        "colab": {
          "base_uri": "https://localhost:8080/"
        },
        "id": "mEynaPqJDd4M",
        "outputId": "072bf7db-70da-4dae-b051-609b86f58bf7"
      },
      "outputs": [
        {
          "name": "stdout",
          "output_type": "stream",
          "text": [
            "9/9 [==============================] - 0s 2ms/step\n",
            "(265, 1, 32)\n",
            "           0         1         2         3         4         5         6   \\\n",
            "0   -0.025631 -0.154134 -0.371080 -0.107853  1.006166 -0.076367  0.903936   \n",
            "1    0.028449 -0.116164 -0.364549 -0.057833  1.514327 -0.035652  1.290411   \n",
            "2   -0.025631 -0.154134 -0.371080 -0.107853 -0.158989 -0.076367  0.007023   \n",
            "3   -0.025631 -0.154134 -0.371080 -0.107853  1.236277 -0.076367  1.078944   \n",
            "4    0.028449 -0.116164 -0.364549 -0.057833  1.552679 -0.035652  1.319579   \n",
            "..        ...       ...       ...       ...       ...       ...       ...   \n",
            "612  0.028449 -0.116164 -0.364549 -0.057833  1.734850 -0.035652  1.458127   \n",
            "613 -0.039985 -0.164203 -0.372849 -0.121028  0.143251 -0.087170  0.247659   \n",
            "614 -0.025631 -0.154134 -0.371080 -0.107853  0.565121 -0.076367  0.568506   \n",
            "615  0.082865 -0.076489 -0.357950 -0.005008  0.076136  0.006835  0.196615   \n",
            "616 -0.063439 -0.180719 -0.375788 -0.142556  0.382950 -0.104894  0.429958   \n",
            "\n",
            "           7         8         9   ...        22        23        24  \\\n",
            "0   -0.011115  0.661545 -0.209953  ... -0.091012  0.059924 -0.048783   \n",
            "1   -0.009099  1.119132 -0.165843  ... -0.041912  0.110337 -0.005979   \n",
            "2   -0.011115 -0.329950 -0.209953  ... -0.091012  0.059924 -0.048783   \n",
            "3   -0.011115  0.868755 -0.209953  ... -0.091012  0.059924 -0.048783   \n",
            "4   -0.009099  1.153667 -0.165843  ... -0.041912  0.110337 -0.005979   \n",
            "..        ...       ...       ...  ...       ...       ...       ...   \n",
            "612 -0.009099  1.317708 -0.165843  ... -0.041912  0.110337 -0.005979   \n",
            "613 -0.011664 -0.109070 -0.221573  ... -0.103960  0.046176 -0.060134   \n",
            "614 -0.011115  0.264394 -0.209953  ... -0.091012  0.059924 -0.048783   \n",
            "615 -0.007078 -0.161320 -0.119270  ...  0.009792  0.160749  0.038019   \n",
            "616 -0.012579  0.100353 -0.240561  ... -0.125133  0.023261 -0.078751   \n",
            "\n",
            "           25        26        27        28        29        30        31  \n",
            "0   -0.109578 -0.173891 -0.079962  0.373897 -0.129478 -0.108425  0.318791  \n",
            "1   -0.046586 -0.126997 -0.050284  0.716075 -0.090197 -0.051100  0.592271  \n",
            "2   -0.109578 -0.173891 -0.079962 -0.343095 -0.129478 -0.108425 -0.270858  \n",
            "3   -0.109578 -0.173891 -0.079962  0.528845 -0.129478 -0.108425  0.442631  \n",
            "4   -0.046586 -0.126997 -0.050284  0.741900 -0.090197 -0.051100  0.612911  \n",
            "..        ...       ...       ...       ...       ...       ...       ...  \n",
            "612 -0.046586 -0.126997 -0.050284  0.864568 -0.090197 -0.051100  0.710951  \n",
            "613 -0.126024 -0.186238 -0.087894 -0.187111 -0.139893 -0.123449 -0.135503  \n",
            "614 -0.109578 -0.173891 -0.079962  0.076912 -0.129478 -0.108425  0.081432  \n",
            "615  0.020647 -0.077441 -0.019648 -0.223031 -0.049144  0.009863 -0.166171  \n",
            "616 -0.152761 -0.206406 -0.100962 -0.044725 -0.156976 -0.147929 -0.016471  \n",
            "\n",
            "[617 rows x 32 columns]\n"
          ]
        }
      ],
      "source": [
        "intermediate_test_output = intermediate_layer_model.predict(X_valid)\n",
        "print(intermediate_test_output.shape)\n",
        "intermediate_test_output=np.reshape(intermediate_test_output,(intermediate_test_output.shape[0], (intermediate_test_output.shape[1]*intermediate_test_output.shape[2])))\n",
        "intermediate_test_output = pd.DataFrame(data=intermediate_test_output)\n",
        "print(intermediate_output)"
      ]
    },
    {
      "cell_type": "code",
      "execution_count": null,
      "metadata": {
        "id": "DfXYGB1n0bDc"
      },
      "outputs": [],
      "source": [
        "# A parameter grid for SVR\n",
        "params = {'C': [1,3,5, 10,15,20,25,30,35,40,45], 'gamma': [1,0.1,0.01,0.001],'epsilon': [1,0.1,0.01,0.001],'kernel': ['rbf', 'poly', 'sigmoid','linear'] ,'degree':[3,5,10,15]}\n"
      ]
    },
    {
      "cell_type": "code",
      "execution_count": null,
      "metadata": {
        "id": "cC21-GDx0jLM"
      },
      "outputs": [],
      "source": [
        "folds = 5\n",
        "param_comb = 25\n",
        "skf = KFold(n_splits=folds, shuffle = True, random_state = 1001)\n",
        "random_search = RandomizedSearchCV(estimator=SVR(), param_distributions=params, n_iter=param_comb, scoring='neg_mean_squared_error', n_jobs=4, cv=skf.get_n_splits(), verbose=3, random_state=1001 )\n"
      ]
    },
    {
      "cell_type": "code",
      "execution_count": null,
      "metadata": {
        "colab": {
          "background_save": true,
          "base_uri": "https://localhost:8080/"
        },
        "id": "CwQv1_R-0kDg",
        "outputId": "12fe4e2e-3d04-43fe-98a2-e16feec7c012"
      },
      "outputs": [
        {
          "name": "stdout",
          "output_type": "stream",
          "text": [
            "Fitting 5 folds for each of 25 candidates, totalling 125 fits\n"
          ]
        }
      ],
      "source": [
        "# Here we go\n",
        "#start_time = timer(None) # timing starts from this point for \"start_time\" variable\n",
        "best_model=random_search.fit(intermediate_output,y_train)"
      ]
    },
    {
      "cell_type": "code",
      "execution_count": null,
      "metadata": {
        "id": "1LBlirlw0wIC"
      },
      "outputs": [],
      "source": [
        "print(f'Best score: {best_model.best_score_}')\n",
        "print(f'Best model: {best_model.best_params_}')"
      ]
    },
    {
      "cell_type": "code",
      "execution_count": null,
      "metadata": {
        "id": "yTkVhi720zsH"
      },
      "outputs": [],
      "source": [
        "yhat=best_model.predict(intermediate_test_output)\n",
        "yhat_t=best_model.predict(intermediate_output)"
      ]
    },
    {
      "cell_type": "code",
      "execution_count": null,
      "metadata": {
        "id": "rerEuo_qbFfp"
      },
      "outputs": [],
      "source": [
        "#from xgboost import XGBRegressor\n",
        "#xgbmodel = XGBRegressor(verbosity=0)\n",
        "#xgbmodel.fit(intermediate_output, y_train)"
      ]
    },
    {
      "cell_type": "code",
      "execution_count": null,
      "metadata": {
        "id": "lc8MXhH1Zsqy"
      },
      "outputs": [],
      "source": [
        "#score = xgbmodel.score(intermediate_output, y_train)\n",
        "#yhat=xgbmodel.predict(intermediate_test_output)\n",
        "#yhat_t=xgbmodel.predict(intermediate_output)\n",
        "#print(\"Training score: \", score)"
      ]
    },
    {
      "cell_type": "code",
      "execution_count": null,
      "metadata": {
        "id": "4AVUfjGTbQcV"
      },
      "outputs": [],
      "source": [
        "#r2.insert(i,metrics.r2_score(y_valid,yhat))\n",
        "#r2.insert(i,metrics.r2_score(y_train,yhat_t))"
      ]
    },
    {
      "cell_type": "code",
      "execution_count": null,
      "metadata": {
        "id": "QnDviB5oG761"
      },
      "outputs": [],
      "source": [
        "metrics.r2_score(y_train,yhat_t)\n"
      ]
    },
    {
      "cell_type": "code",
      "execution_count": null,
      "metadata": {
        "id": "fYh0N_Q-JRN8"
      },
      "outputs": [],
      "source": [
        "metrics.r2_score(y_valid,yhat)"
      ]
    },
    {
      "cell_type": "code",
      "execution_count": null,
      "metadata": {
        "id": "YocA-oTl02lv"
      },
      "outputs": [],
      "source": [
        "def mbe(predict, actual):\n",
        "    predict = np.array(predict)\n",
        "    actual = np.array(actual)\n",
        "    difference = predict - actual\n",
        "    score = np.sum(difference) / len(predict)\n",
        "    return score\n"
      ]
    },
    {
      "cell_type": "code",
      "execution_count": null,
      "metadata": {
        "id": "a7uCdZHE05eR"
      },
      "outputs": [],
      "source": [
        "def mean_absolute_percentage_error(y_true, y_pred):\n",
        "    return np.mean(np.abs((y_true - y_pred) / y_true)) * 100"
      ]
    },
    {
      "cell_type": "code",
      "execution_count": null,
      "metadata": {
        "id": "51OKMFRZ09G0"
      },
      "outputs": [],
      "source": [
        "def mean_relative_error(y_true,y_pred):\n",
        "    res=(np.sum(np.abs((y_true-y_pred)/y_true))*100)/len(y_true)\n",
        "    return res"
      ]
    },
    {
      "cell_type": "code",
      "execution_count": null,
      "metadata": {
        "id": "Ci_4XI9O0_Xk"
      },
      "outputs": [],
      "source": [
        "mae=[]\n",
        "mrae=[]\n",
        "mse=[]\n",
        "r2=[]\n",
        "r2_A=[]\n",
        "nse1=[]\n",
        "mnse=[]\n",
        "rnse=[]\n",
        "nrmse2=[]\n",
        "nrmse1=[]\n",
        "i_a=[]\n",
        "mae_out1=[]\n",
        "mape=[]\n",
        "dg=[]\n",
        "mbd_out=[]\n",
        "md_i_a=[]\n",
        "kg2=[]\n",
        "me=[]\n",
        "r_i_a=[]\n",
        "rmse1=[]\n",
        "accu=[]\n",
        "\n",
        "mae_t=[]\n",
        "mrae_t=[]\n",
        "mse_t=[]\n",
        "r2_t=[]\n",
        "r2_A_t=[]\n",
        "nse_t=[]\n",
        "mnse_t=[]\n",
        "rnse_t=[]\n",
        "nrmse2_t=[]\n",
        "nrmse1_t=[]\n",
        "i_a_t=[]\n",
        "mae_out1_t=[]\n",
        "mape_t=[]\n",
        "dg_t=[]\n",
        "mbd_out_t=[]\n",
        "md_i_a_t=[]\n",
        "kg2_t=[]\n",
        "me_t=[]\n",
        "r_i_a_t=[]\n",
        "rmse1_t=[]\n",
        "accu_t=[]"
      ]
    },
    {
      "cell_type": "code",
      "execution_count": null,
      "metadata": {
        "id": "5z6RucrdXxCt"
      },
      "outputs": [],
      "source": [
        "y_valid=y_valid.reshape(yhat.shape)\n"
      ]
    },
    {
      "cell_type": "code",
      "execution_count": null,
      "metadata": {
        "id": "lX5TSP3AcAkM"
      },
      "outputs": [],
      "source": [
        "y_train=y_train.reshape(yhat_t.shape)"
      ]
    },
    {
      "cell_type": "code",
      "execution_count": null,
      "metadata": {
        "id": "Y7SXhSQ0Yk0P"
      },
      "outputs": [],
      "source": [
        "print(yhat.shape)"
      ]
    },
    {
      "cell_type": "code",
      "execution_count": null,
      "metadata": {
        "id": "0zPTWq8aYt7a"
      },
      "outputs": [],
      "source": [
        "print(y_valid.shape)"
      ]
    },
    {
      "cell_type": "code",
      "execution_count": null,
      "metadata": {
        "id": "VjrnFez91CL-"
      },
      "outputs": [],
      "source": [
        "i=0\n",
        "print(metrics.r2_score(y_valid,yhat))\n",
        "mae.insert(i, metrics.mean_absolute_error(y_valid,yhat))\n",
        "mse.insert(i,metrics.mean_squared_error(y_valid,yhat))\n",
        "rmse1.insert(i,rmse(yhat,y_valid))\n",
        "r2.insert(i,metrics.r2_score(y_valid,yhat))\n",
        "mrae.insert(i,mare(yhat_t,y_train))\n",
        "print(y_valid[2],\" \",yhat[2])\n",
        "yhat=np.asarray(yhat)\n",
        "y_valid=np.asarray(y_valid)\n",
        "yhat=yhat.reshape(y_valid.shape)\n",
        "y_valid=y_valid.reshape(yhat.shape)\n",
        "r2_A.insert(i,gf.r2(yhat,y_valid))\n",
        "nse1.insert(i,gf.nse(yhat,y_valid))\n",
        "mrae.insert(i,mare(yhat,y_valid))\n",
        "mnse.insert(i,gf.mnse(yhat,y_valid))#Modify Nash-sutcliffe Efficiency\n",
        "nrmse2.insert(i,gf.nrmse(yhat,y_valid,'std'))#Normalized Root Mean Square Error\n",
        "nrmse1.insert(i,np.sqrt(metrics.mean_squared_error(y_valid,model.predict(X_valid)))/np.mean(y_valid)) # Normalized Root Mean Square Error using mean\n",
        "i_a.insert(i,gf.d(yhat,y_valid))#Index of Agreement\n",
        "md_i_a.insert(i,gf.md(yhat,y_valid)) #Modify Index of Agreement\n",
        "mae_out1.insert(i,gf.mae(yhat,y_valid))#Mean Absolute Error\n",
        "mape.insert(i,mean_absolute_percentage_error(y_valid,yhat))#mean_absolute_percentage_error\n",
        "kg2.insert(i,gf.kge(yhat,y_valid)) #Kling Gupta Efficiency\n",
        "dg.insert(i,gf.dg(yhat,y_valid)) #Deviation of gain\n",
        "mbd_out.insert(i,mbe(model.predict(X_valid),y_valid))# mean bias error\n",
        "#skew[i]=stats.skew(y_valid,bias=False) #skewnwss\n",
        "#kurtosis[i]=stats.kurtosis(y_valid,bias=False) #kurtosis\n",
        "me.insert(i,gf.me(yhat,y_valid))#Mean Error\n",
        "mape.insert(i,pbias(yhat,y_valid))\n",
        "\n",
        "#training data metrics\n",
        "\n",
        "mae_t.insert(i, metrics.mean_absolute_error(y_train,model.predict(X_train)))\n",
        "mse_t.insert(i,metrics.mean_squared_error(y_train,model.predict(X_train)))\n",
        "rmse1_t.insert(i,rmse(yhat_t,y_train) )\n",
        "r2_t.insert(i,metrics.r2_score(y_train,model.predict(X_train)))\n",
        "mrae_t.insert(i,mare(yhat_t,y_train))\n",
        "yhat_t=np.asarray(yhat_t)\n",
        "y_valid=np.asarray(y_valid)\n",
        "yhat_t=yhat_t.reshape(y_train.shape)\n",
        "r2_A_t.insert(i,gf.r2(yhat_t,y_train))\n",
        "nse_t.insert(i,gf.nse(yhat_t,y_train))\n",
        "mnse_t.insert(i,gf.mnse(yhat_t,y_train))#Modify Nash-sutcliffe Efficiency\n",
        "nrmse2_t.insert(i,gf.nrmse(yhat_t,y_train,'std'))#Normalized Root Mean Square Error\n",
        "nrmse1_t.insert(i,np.sqrt(metrics.mean_squared_error(y_train,model.predict(X_train)))/np.mean(y_train)) # Normalized Root Mean Square Error using mean\n",
        "i_a_t.insert(i,gf.d(yhat_t,y_train))#Index of Agreement\n",
        "md_i_a_t.insert(i,gf.md(yhat_t,y_train)) #Modify Index of Agreement\n",
        "mae_out1_t.insert(i,gf.mae(yhat_t,y_train))#Mean Absolute Error\n",
        "mape.insert(i,mean_absolute_percentage_error(y_valid,yhat))#mean_absolute_percentage_error\n",
        "kg2_t.insert(i,gf.kge(yhat_t,y_train)) #Kling Gupta Efficiency\n",
        "dg_t.insert(i,gf.dg(yhat_t,y_train)) #Deviation of gain\n",
        "mbd_out_t.insert(i,mbe(model.predict(X_train),y_train))# mean bias error\n",
        "me_t.insert(i,gf.me(yhat_t,y_train))#Mean Error\n",
        "mape_t.insert(i,pbias(yhat_t,y_train))\n"
      ]
    },
    {
      "cell_type": "code",
      "execution_count": null,
      "metadata": {
        "id": "4EjSXV2R1Hpw"
      },
      "outputs": [],
      "source": [
        "df1=pd.DataFrame(y_valid,columns = ['y_true'])\n",
        "df2 = pd.DataFrame(yhat,columns = ['y_pred'])\n",
        "data=pd.concat([df1,df2],axis=1)"
      ]
    },
    {
      "cell_type": "code",
      "execution_count": null,
      "metadata": {
        "id": "IiwB5ku2-qaM"
      },
      "outputs": [],
      "source": [
        "df53=pd.DataFrame(y_train,columns = ['y_true'])\n",
        "df54= pd.DataFrame(yhat_t,columns = ['y_pred'])\n",
        "data1=pd.concat([df53,df54],axis=1)"
      ]
    },
    {
      "cell_type": "code",
      "execution_count": null,
      "metadata": {
        "id": "V7kZkXVy-27J"
      },
      "outputs": [],
      "source": [
        "data1.to_csv ('result_CNN_SVR_train_R_comb5.csv',index = True, header=True)"
      ]
    },
    {
      "cell_type": "code",
      "execution_count": null,
      "metadata": {
        "id": "ofv6clXdTjJ9"
      },
      "outputs": [],
      "source": [
        "df51=pd.DataFrame(X_valid1)\n",
        "df52 = pd.DataFrame(X_train1)\n",
        "df51.to_csv ('result_CNN_SVR_R_comb5_X_test.csv',index = True, header=True)"
      ]
    },
    {
      "cell_type": "code",
      "execution_count": null,
      "metadata": {
        "id": "WUxyWbglwCwX"
      },
      "outputs": [],
      "source": [
        "df52.to_csv ('result_CNN_SVR_R_comb5_train.csv',index = True, header=True)"
      ]
    },
    {
      "cell_type": "code",
      "execution_count": null,
      "metadata": {
        "id": "-WYF0MHQ1MTY"
      },
      "outputs": [],
      "source": [
        "data.to_csv ('result_CNN_SVR_test_R_comb5.csv',index = True, header=True)"
      ]
    },
    {
      "cell_type": "code",
      "execution_count": null,
      "metadata": {
        "id": "g5hv9RYd1Qet"
      },
      "outputs": [],
      "source": [
        "df3=pd.DataFrame(nse1,columns=['NSE'])\n",
        "df4=pd.DataFrame(mae,columns=['MAE'])\n",
        "df5=pd.DataFrame(mae_out1,columns=['MAE_out1'])\n",
        "df6=pd.DataFrame(mrae,columns=['Mean absolute relative error'])\n",
        "df7=pd.DataFrame(mbd_out,columns=['mean biased error'])\n",
        "df8=pd.DataFrame(me,columns=['Mean error'])\n",
        "df9=pd.DataFrame(md_i_a,columns=['modified Index of argument'])\n",
        "df10=pd.DataFrame(mnse,columns=['ModifyNSE'])\n",
        "df11=pd.DataFrame(mrae,columns=['MeanRE'])\n",
        "df12=pd.DataFrame(mse,columns=['MSE'])\n",
        "df13=pd.DataFrame(i_a,columns=['Index_Agree'])\n",
        "df14=pd.DataFrame(r_i_a,columns=['RelIndex_Agree'])\n",
        "df15=pd.DataFrame(r2,columns=['R2'])\n",
        "df16=pd.DataFrame(r2_A,columns=['R2_A'])\n",
        "df17=pd.DataFrame(rnse,columns=['Relative_NSE'])\n",
        "df18=pd.DataFrame(dg,columns=['D_gain'])\n",
        "df19=pd.DataFrame(kg2,columns=['Kling_efficiency'])\n",
        "df20=pd.DataFrame(rmse1,columns=['Root mean square Error'])\n",
        "df21=pd.DataFrame(mape,columns=['Percent_bias'])\n",
        "df22=pd.DataFrame(nrmse2,columns=['Normalized_rmse'])\n",
        "df23=pd.DataFrame(nrmse1,columns=['Normalized_mse'])"
      ]
    },
    {
      "cell_type": "code",
      "execution_count": null,
      "metadata": {
        "id": "yoYcAx3E1Tbl"
      },
      "outputs": [],
      "source": [
        "data1=pd.concat([df3,df4,df5,df6,df7,df8,df9,df10,df11,df12,df13,df14,df15,df16,df17,df18,df19,df20,df21,df22],axis=1)\n",
        "data1.to_csv ('result_CNN_SVR_test_metric_R_comb5.csv',index = True, header=True)"
      ]
    },
    {
      "cell_type": "code",
      "execution_count": null,
      "metadata": {
        "id": "p0JxVJDY1VvY"
      },
      "outputs": [],
      "source": [
        "df23=pd.DataFrame(nse_t,columns=['NSE'])\n",
        "df24=pd.DataFrame(mae_t,columns=['MAE'])\n",
        "df25=pd.DataFrame(mae_out1_t,columns=['MAE_out1'])\n",
        "df26=pd.DataFrame(mrae_t,columns=['Mean absolute relative error'])\n",
        "df27=pd.DataFrame(mbd_out_t,columns=['mean biased error'])\n",
        "df28=pd.DataFrame(me_t,columns=['Mean error'])\n",
        "df29=pd.DataFrame(md_i_a_t,columns=['modified Index of argument'])\n",
        "df30=pd.DataFrame(mnse_t,columns=['ModifyNSE'])\n",
        "df31=pd.DataFrame(mrae_t,columns=['MeanRE'])\n",
        "df32=pd.DataFrame(mse_t,columns=['MSE'])\n",
        "df33=pd.DataFrame(i_a_t,columns=['Index_Agree'])\n",
        "df34=pd.DataFrame(r_i_a_t,columns=['RelIndex_Agree'])\n",
        "df35=pd.DataFrame(r2_t,columns=['R2'])\n",
        "df36=pd.DataFrame(r2_A_t,columns=['R2_A'])\n",
        "df37=pd.DataFrame(rnse_t,columns=['Relative_NSE'])\n",
        "df38=pd.DataFrame(dg_t,columns=['D_gain'])\n",
        "df39=pd.DataFrame(kg2_t,columns=['Kling_efficiency'])\n",
        "df40=pd.DataFrame(rmse1_t,columns=['Root mean square Error'])\n",
        "df41=pd.DataFrame(mape_t,columns=['Percent_bias'])\n",
        "df42=pd.DataFrame(nrmse1_t,columns=['Normalized RMSE'])"
      ]
    },
    {
      "cell_type": "code",
      "execution_count": null,
      "metadata": {
        "id": "ZPcg_UdT1YR3"
      },
      "outputs": [],
      "source": [
        "data2=pd.concat([df23,df24,df25,df26,df27,df28,df29,df30,df31,df32,df33,df34,df35,df36,df37,df38,df39,df40,df41,df42],axis=1)\n",
        "data2.to_csv ('Result_CNN_SVR_train_metric_R_comb5.csv',index = True, header=True)"
      ]
    },
    {
      "cell_type": "code",
      "execution_count": null,
      "metadata": {
        "id": "w-GpptboYQVT"
      },
      "outputs": [],
      "source": [
        "dataset = pd.read_csv('Rice_2015.csv',index_col=0)\n",
        "X = dataset.iloc[:,[0,8]].values\n",
        "print(pd.DataFrame(X))\n",
        "#df.loc[np.r_[0:5, 10:15, 20:25], :]\n",
        "print(X)\n",
        "\n",
        "X = X.reshape((X.shape[0], X.shape[1], 1))\n",
        "intermediate_output = intermediate_layer_model.predict(X)\n",
        "print(intermediate_output.shape)\n",
        "intermediate_output=np.reshape(intermediate_output,(intermediate_output.shape[0], (intermediate_output.shape[1]*intermediate_output.shape[2])))\n",
        "intermediate_output = pd.DataFrame(data=intermediate_output)\n",
        "print(intermediate_output)\n",
        "yhat_climate=best_model.predict(intermediate_output)\n",
        "df53=pd.DataFrame(yhat_climate)\n",
        "df53.to_csv ('Result_rice_svr_comb1.csv',index = True, header=True)"
      ]
    },
    {
      "cell_type": "code",
      "execution_count": null,
      "metadata": {
        "id": "TqUssPQJQFlL"
      },
      "outputs": [],
      "source": [
        "dataset = pd.read_csv('Rice_norm_final.csv',index_col=0)\n",
        "X = dataset.iloc[:,[0,5,6,7,8]].values\n",
        "print(pd.DataFrame(X))\n",
        "intermediate_output = intermediate_layer_model.predict(X)\n",
        "print(intermediate_output.shape)\n",
        "intermediate_output=np.reshape(intermediate_output,(intermediate_output.shape[0], (intermediate_output.shape[1]*intermediate_output.shape[2])))\n",
        "intermediate_output = pd.DataFrame(data=intermediate_output)\n",
        "print(intermediate_output)\n",
        "yhat_climate=best_model.predict(intermediate_output)\n",
        "df53=pd.DataFrame(yhat_climate)\n",
        "df53.to_csv ('Result_Rice_SVR.csv',index = True, header=True)"
      ]
    },
    {
      "cell_type": "code",
      "execution_count": null,
      "metadata": {
        "id": "MBTJ-b6uMYWL"
      },
      "outputs": [],
      "source": [
        "dataset = pd.read_csv('Had8.5_norm.csv',index_col=0)\n",
        "X = dataset.iloc[np.r_[0:98,325:365],[0,1,2,3,55]].values\n",
        "print(pd.DataFrame(X))\n",
        "#df.loc[np.r_[0:5, 10:15, 20:25], :]\n"
      ]
    },
    {
      "cell_type": "code",
      "execution_count": null,
      "metadata": {
        "id": "gqBXrvxaNiKd"
      },
      "outputs": [],
      "source": [
        "print(X)\n",
        "\n",
        "X = X.reshape((X.shape[0], X.shape[1], 1))"
      ]
    },
    {
      "cell_type": "code",
      "execution_count": null,
      "metadata": {
        "id": "epFAiuSqNzL_"
      },
      "outputs": [],
      "source": [
        "intermediate_output = intermediate_layer_model.predict(X)\n",
        "print(intermediate_output.shape)\n",
        "intermediate_output=np.reshape(intermediate_output,(intermediate_output.shape[0], (intermediate_output.shape[1]*intermediate_output.shape[2])))\n",
        "intermediate_output = pd.DataFrame(data=intermediate_output)\n",
        "print(intermediate_output)"
      ]
    },
    {
      "cell_type": "code",
      "execution_count": null,
      "metadata": {
        "id": "0ox2Ef30RdxF"
      },
      "outputs": [],
      "source": [
        "yhat_climate=best_model.predict(intermediate_output)\n",
        "df53=pd.DataFrame(yhat_climate)"
      ]
    },
    {
      "cell_type": "code",
      "execution_count": null,
      "metadata": {
        "id": "aiTh98ikRj8J"
      },
      "outputs": [],
      "source": [
        "#df53.to_csv ('Result_CNN_SVR_Had4.5_R.csv',index = True, header=True)"
      ]
    },
    {
      "cell_type": "code",
      "execution_count": null,
      "metadata": {
        "id": "YnTa5jpHrD7v"
      },
      "outputs": [],
      "source": [
        "df53.to_csv ('Result_CNN_SVR_R_had_8.5_2023_R.csv',index = True, header=True)"
      ]
    },
    {
      "cell_type": "code",
      "execution_count": null,
      "metadata": {
        "id": "RVK8Tgl6YBEq"
      },
      "outputs": [],
      "source": [
        "X = dataset.iloc[np.r_[0:98,325:365],[5,6,7,8,55]].values\n",
        "print(pd.DataFrame(X))\n",
        "intermediate_output = intermediate_layer_model.predict(X)\n",
        "print(intermediate_output.shape)\n",
        "intermediate_output=np.reshape(intermediate_output,(intermediate_output.shape[0], (intermediate_output.shape[1]*intermediate_output.shape[2])))\n",
        "intermediate_output = pd.DataFrame(data=intermediate_output)\n",
        "print(intermediate_output)\n",
        "yhat_climate=best_model.predict(intermediate_output)\n",
        "df53=pd.DataFrame(yhat_climate)\n",
        "df53.to_csv ('Result_CNN_SVR_R_had_8.5_2024_R.csv',index = True, header=True)"
      ]
    },
    {
      "cell_type": "code",
      "execution_count": null,
      "metadata": {
        "id": "uE2lMqcdYBh9"
      },
      "outputs": [],
      "source": [
        "X = dataset.iloc[np.r_[0:98,325:365],[10,11,12,13,55]].values\n",
        "print(pd.DataFrame(X))\n",
        "intermediate_output = intermediate_layer_model.predict(X)\n",
        "print(intermediate_output.shape)\n",
        "intermediate_output=np.reshape(intermediate_output,(intermediate_output.shape[0], (intermediate_output.shape[1]*intermediate_output.shape[2])))\n",
        "intermediate_output = pd.DataFrame(data=intermediate_output)\n",
        "print(intermediate_output)\n",
        "yhat_climate=best_model.predict(intermediate_output)\n",
        "df53=pd.DataFrame(yhat_climate)\n",
        "df53.to_csv ('Result_CNN_SVR_R_had_8.5_2025_R.csv',index = True, header=True)"
      ]
    },
    {
      "cell_type": "code",
      "execution_count": null,
      "metadata": {
        "id": "i-NuIaoiYEk_"
      },
      "outputs": [],
      "source": [
        "X = dataset.iloc[np.r_[0:98,325:365],[15,16,17,18,55]].values\n",
        "print(pd.DataFrame(X))\n",
        "intermediate_output = intermediate_layer_model.predict(X)\n",
        "print(intermediate_output.shape)\n",
        "intermediate_output=np.reshape(intermediate_output,(intermediate_output.shape[0], (intermediate_output.shape[1]*intermediate_output.shape[2])))\n",
        "intermediate_output = pd.DataFrame(data=intermediate_output)\n",
        "print(intermediate_output)\n",
        "yhat_climate=best_model.predict(intermediate_output)\n",
        "df53=pd.DataFrame(yhat_climate)\n",
        "df53.to_csv ('Result_CNN_SVR_R_had_8.5_2026_R.csv',index = True, header=True)"
      ]
    },
    {
      "cell_type": "code",
      "execution_count": null,
      "metadata": {
        "id": "2eHBoCf_YIgv"
      },
      "outputs": [],
      "source": [
        "X = dataset.iloc[np.r_[0:98,325:365],[20,21,22,23,55]].values\n",
        "print(pd.DataFrame(X))\n",
        "intermediate_output = intermediate_layer_model.predict(X)\n",
        "print(intermediate_output.shape)\n",
        "intermediate_output=np.reshape(intermediate_output,(intermediate_output.shape[0], (intermediate_output.shape[1]*intermediate_output.shape[2])))\n",
        "intermediate_output = pd.DataFrame(data=intermediate_output)\n",
        "print(intermediate_output)\n",
        "yhat_climate=best_model.predict(intermediate_output)\n",
        "df53=pd.DataFrame(yhat_climate)\n",
        "df53.to_csv ('Result_CNN_SVR_R_had_8.5_2027_R.csv',index = True, header=True)"
      ]
    },
    {
      "cell_type": "code",
      "execution_count": null,
      "metadata": {
        "id": "BejU0OwxYKoz"
      },
      "outputs": [],
      "source": [
        "X = dataset.iloc[np.r_[0:98,325:365],[25,26,27,28,55]].values\n",
        "print(pd.DataFrame(X))\n",
        "intermediate_output = intermediate_layer_model.predict(X)\n",
        "print(intermediate_output.shape)\n",
        "intermediate_output=np.reshape(intermediate_output,(intermediate_output.shape[0], (intermediate_output.shape[1]*intermediate_output.shape[2])))\n",
        "intermediate_output = pd.DataFrame(data=intermediate_output)\n",
        "print(intermediate_output)\n",
        "yhat_climate=best_model.predict(intermediate_output)\n",
        "df53=pd.DataFrame(yhat_climate)\n",
        "df53.to_csv ('Result_CNN_SVR_R_had_8.5_2028_R.csv',index = True, header=True)"
      ]
    },
    {
      "cell_type": "code",
      "execution_count": null,
      "metadata": {
        "id": "nn27lXaxYMAe"
      },
      "outputs": [],
      "source": [
        "X = dataset.iloc[np.r_[0:98,325:365],[30,31,32,33,55]].values\n",
        "print(pd.DataFrame(X))\n",
        "intermediate_output = intermediate_layer_model.predict(X)\n",
        "print(intermediate_output.shape)\n",
        "intermediate_output=np.reshape(intermediate_output,(intermediate_output.shape[0], (intermediate_output.shape[1]*intermediate_output.shape[2])))\n",
        "intermediate_output = pd.DataFrame(data=intermediate_output)\n",
        "print(intermediate_output)\n",
        "yhat_climate=best_model.predict(intermediate_output)\n",
        "df53=pd.DataFrame(yhat_climate)\n",
        "df53.to_csv ('Result_CNN_SVR_R_had_8.5_2029_R.csv',index = True, header=True)"
      ]
    },
    {
      "cell_type": "code",
      "execution_count": null,
      "metadata": {
        "id": "O-SiGx7gYPm3"
      },
      "outputs": [],
      "source": [
        "X = dataset.iloc[np.r_[0:98,325:365],[35,36,37,38,55]].values\n",
        "print(pd.DataFrame(X))\n",
        "intermediate_output = intermediate_layer_model.predict(X)\n",
        "print(intermediate_output.shape)\n",
        "intermediate_output=np.reshape(intermediate_output,(intermediate_output.shape[0], (intermediate_output.shape[1]*intermediate_output.shape[2])))\n",
        "intermediate_output = pd.DataFrame(data=intermediate_output)\n",
        "print(intermediate_output)\n",
        "yhat_climate=best_model.predict(intermediate_output)\n",
        "df53=pd.DataFrame(yhat_climate)\n",
        "df53.to_csv ('Result_CNN_SVR_R_had_8.5_2030_R.csv',index = True, header=True)"
      ]
    },
    {
      "cell_type": "code",
      "execution_count": null,
      "metadata": {
        "id": "tGvYoavpYSyA"
      },
      "outputs": [],
      "source": [
        "X = dataset.iloc[np.r_[0:98,325:365],[40,41,42,43,55]].values\n",
        "print(pd.DataFrame(X))\n",
        "intermediate_output = intermediate_layer_model.predict(X)\n",
        "print(intermediate_output.shape)\n",
        "\n",
        "intermediate_output=np.reshape(intermediate_output,(intermediate_output.shape[0], (intermediate_output.shape[1]*intermediate_output.shape[2])))\n",
        "intermediate_output = pd.DataFrame(data=intermediate_output)\n",
        "print(intermediate_output)\n",
        "yhat_climate=best_model.predict(intermediate_output)\n",
        "df53=pd.DataFrame(yhat_climate)\n",
        "df53.to_csv ('Result_CNN_SVR_R_had_8.5_2031_R.csv',index = True, header=True)"
      ]
    },
    {
      "cell_type": "code",
      "execution_count": null,
      "metadata": {
        "id": "ZAFk1Z5_YWRs"
      },
      "outputs": [],
      "source": [
        "X = dataset.iloc[np.r_[0:98,325:365],[45,46,47,48,55]].values\n",
        "print(pd.DataFrame(X))\n",
        "intermediate_output = intermediate_layer_model.predict(X)\n",
        "print(intermediate_output.shape)\n",
        "intermediate_output=np.reshape(intermediate_output,(intermediate_output.shape[0], (intermediate_output.shape[1]*intermediate_output.shape[2])))\n",
        "intermediate_output = pd.DataFrame(data=intermediate_output)\n",
        "print(intermediate_output)\n",
        "yhat_climate=best_model.predict(intermediate_output)\n",
        "df53=pd.DataFrame(yhat_climate)\n",
        "df53.to_csv ('Result_CNN_SVR_R_had_8.5_2032_R.csv',index = True, header=True)"
      ]
    },
    {
      "cell_type": "code",
      "execution_count": null,
      "metadata": {
        "id": "tKoMPoMgYai8"
      },
      "outputs": [],
      "source": [
        "X = dataset.iloc[np.r_[0:98,325:365],[50,51,52,53,55]].values\n",
        "print(pd.DataFrame(X))\n",
        "intermediate_output = intermediate_layer_model.predict(X)\n",
        "print(intermediate_output.shape)\n",
        "intermediate_output=np.reshape(intermediate_output,(intermediate_output.shape[0], (intermediate_output.shape[1]*intermediate_output.shape[2])))\n",
        "intermediate_output = pd.DataFrame(data=intermediate_output)\n",
        "print(intermediate_output)\n",
        "yhat_climate=best_model.predict(intermediate_output)\n",
        "df53=pd.DataFrame(yhat_climate)\n",
        "df53.to_csv ('Result_CNN_SVR_R_had_8.5_2033_R.csv',index = True, header=True)"
      ]
    },
    {
      "cell_type": "code",
      "execution_count": null,
      "metadata": {
        "id": "9kZ4IkF9haCl"
      },
      "outputs": [],
      "source": [
        "\n",
        "import pandas as pd\n",
        "from sklearn import metrics\n",
        "import goodness_of_fit as gf\n",
        "dataset = pd.read_csv('result_CNN_XG_train_W_comb5_inverse.csv',index_col=0)\n",
        "y_act = dataset.iloc[:,[0]].values\n",
        "Y_pred= dataset.iloc[:,[1]].values\n",
        "#Y_svr=dataset.iloc[0:119,[2]].values\n",
        "mae_x=metrics.mean_absolute_error(y_act,Y_pred)\n",
        "Y_pred=Y_pred.flatten()\n",
        "y_act=y_act.flatten()\n",
        "print(gf.nse(Y_pred,y_act))\n",
        "print(rmse(Y_pred,y_act))\n",
        "print(gf.mae(Y_pred,y_act))\n",
        "print(mare(Y_pred,y_act))\n"
      ]
    },
    {
      "cell_type": "code",
      "execution_count": null,
      "metadata": {
        "id": "2LjVu2uNmuI0"
      },
      "outputs": [],
      "source": [
        "\n",
        "import pandas as pd\n",
        "from sklearn import metrics\n",
        "import goodness_of_fit as gf\n",
        "dataset = pd.read_csv('2016-2019_prediction.csv',index_col=0)\n",
        "y_act = dataset.iloc[423:,[0]].values\n",
        "Y_xgb= dataset.iloc[423:,[1]].values\n",
        "Y_svr=dataset.iloc[423:,[2]].values\n",
        "#mae_x=metrics.mean_absolute_error(y_act,Y_pred)\n",
        "Y_xgb=Y_xgb.flatten()\n",
        "Y_svr=Y_svr.flatten()\n",
        "y_act=y_act.flatten()\n",
        "\n",
        "print(gf.mae(Y_xgb,y_act))\n",
        "print(gf.nse(Y_xgb,y_act))\n",
        "print(rmse(Y_xgb,y_act))\n",
        "print(gf.mae(Y_svr,y_act))\n",
        "print(gf.nse(Y_svr,y_act))\n",
        "print(rmse(Y_svr,y_act))\n",
        "\n",
        "\n"
      ]
    }
  ],
  "metadata": {
    "colab": {
      "provenance": [],
      "authorship_tag": "ABX9TyNrTKVBtEyJQtjjzt8E6/Zq",
      "include_colab_link": true
    },
    "kernelspec": {
      "display_name": "Python 3",
      "name": "python3"
    }
  },
  "nbformat": 4,
  "nbformat_minor": 0
}